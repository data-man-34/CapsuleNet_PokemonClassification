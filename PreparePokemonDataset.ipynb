{
 "cells": [
  {
   "cell_type": "code",
   "execution_count": 1,
   "metadata": {
    "collapsed": true
   },
   "outputs": [],
   "source": [
    "# importing libraries\n",
    "\n",
    "import os\n",
    "import matplotlib.image as img\n",
    "import pickle\n",
    "import random"
   ]
  },
  {
   "cell_type": "code",
   "execution_count": 2,
   "metadata": {},
   "outputs": [],
   "source": [
    "#replace the string with your directory\n",
    "d = \"/Users/yashwanthreddyvirupaksha/Desktop/pokemon_recognition/pokemon_processed/\" \n",
    "\n",
    "dataset = {\"data\": [], \"labels\": []}\n",
    "\n",
    "for o in os.listdir(d):\n",
    "    if os.path.isdir(os.path.join(d, o)):\n",
    "        for f in os.listdir(os.path.join(d, o)):\n",
    "            image = img.imread(os.path.join(os.path.join(d, o), f))\n",
    "            dataset[\"data\"].append(image)\n",
    "            dataset[\"labels\"].append(o)    "
   ]
  },
  {
   "cell_type": "code",
   "execution_count": 3,
   "metadata": {},
   "outputs": [],
   "source": [
    "#Randomize data\n",
    "\n",
    "combined = list(zip(dataset[\"data\"], dataset[\"labels\"]))\n",
    "random.shuffle(combined)\n",
    "data, labels = zip(*combined)\n",
    "\n",
    "dataset = {\"data\": data, \"labels\": labels}"
   ]
  },
  {
   "cell_type": "code",
   "execution_count": 4,
   "metadata": {},
   "outputs": [],
   "source": [
    "#pickling data\n",
    "\n",
    "pickle_out = open(\"Pokemon_dataset.pickle\", \"wb\")\n",
    "pickle.dump(dataset, pickle_out)\n",
    "pickle_out.close()"
   ]
  }
 ],
 "metadata": {
  "kernelspec": {
   "display_name": "Python 3",
   "language": "python",
   "name": "python3"
  },
  "language_info": {
   "codemirror_mode": {
    "name": "ipython",
    "version": 3
   },
   "file_extension": ".py",
   "mimetype": "text/x-python",
   "name": "python",
   "nbconvert_exporter": "python",
   "pygments_lexer": "ipython3",
   "version": "3.6.2"
  }
 },
 "nbformat": 4,
 "nbformat_minor": 2
}
